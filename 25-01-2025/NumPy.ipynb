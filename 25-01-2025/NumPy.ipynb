{
 "cells": [
  {
   "cell_type": "code",
   "execution_count": 1,
   "id": "f3f83a58-2444-49b9-af10-382958e7bd29",
   "metadata": {},
   "outputs": [
    {
     "name": "stdout",
     "output_type": "stream",
     "text": [
      "Requirement already satisfied: numpy in c:\\users\\cvr\\anaconda3\\lib\\site-packages (1.26.4)\n"
     ]
    }
   ],
   "source": [
    "!pip3 install numpy"
   ]
  },
  {
   "cell_type": "code",
   "execution_count": 13,
   "id": "033b711b-3c02-48a0-b1c3-717b26d72074",
   "metadata": {},
   "outputs": [
    {
     "name": "stdout",
     "output_type": "stream",
     "text": [
      "[1 2 3]\n"
     ]
    }
   ],
   "source": [
    "import numpy as np\n",
    "#Creating a 1-D Array using List\n",
    "arr = np.array([1,2,3])\n",
    "print(arr)"
   ]
  },
  {
   "cell_type": "code",
   "execution_count": 15,
   "id": "caf95a5e-d726-4f86-ab60-4f2a78411653",
   "metadata": {
    "scrolled": true
   },
   "outputs": [
    {
     "name": "stdout",
     "output_type": "stream",
     "text": [
      "[[1 2 3]\n",
      " [4 5 6]]\n"
     ]
    }
   ],
   "source": [
    "#Creating a 2-D Array using List\n",
    "arr1 = np.array([[1,2,3],[4,5,6]])\n",
    "print(arr1)"
   ]
  },
  {
   "cell_type": "code",
   "execution_count": 32,
   "id": "ccfe5be9-2810-4e42-a0e5-3d50fa3d2455",
   "metadata": {
    "jupyter": {
     "source_hidden": true
    }
   },
   "outputs": [
    {
     "name": "stdout",
     "output_type": "stream",
     "text": [
      "[[0. 0. 0.]\n",
      " [0. 0. 0.]]\n"
     ]
    }
   ],
   "source": [
    "arr3 = np.zeros((2,3))\n",
    "print(arr3)"
   ]
  },
  {
   "cell_type": "code",
   "execution_count": 34,
   "id": "34ba0eb8-1a2e-4673-8df5-d4fe19f14ff9",
   "metadata": {},
   "outputs": [
    {
     "name": "stdout",
     "output_type": "stream",
     "text": [
      "[[1. 1. 1. 1.]\n",
      " [1. 1. 1. 1.]]\n"
     ]
    }
   ],
   "source": [
    "arr4 = np.ones((2,4))\n",
    "print(arr4)"
   ]
  },
  {
   "cell_type": "code",
   "execution_count": 38,
   "id": "b628eaca-6645-4ede-8272-9aa929810510",
   "metadata": {},
   "outputs": [
    {
     "name": "stdout",
     "output_type": "stream",
     "text": [
      "[[0.01555781 0.07468003]\n",
      " [0.91784805 0.1826499 ]]\n"
     ]
    }
   ],
   "source": [
    "#Printing random numbers\n",
    "arr5 = np.randomm.random((2,2))\n",
    "print(arr5)"
   ]
  },
  {
   "cell_type": "code",
   "execution_count": 40,
   "id": "dbd1b106-174a-4189-8e2e-15137455a410",
   "metadata": {},
   "outputs": [
    {
     "name": "stdout",
     "output_type": "stream",
     "text": [
      "[[1. 0. 0. 0. 0.]\n",
      " [0. 1. 0. 0. 0.]\n",
      " [0. 0. 1. 0. 0.]\n",
      " [0. 0. 0. 1. 0.]\n",
      " [0. 0. 0. 0. 1.]]\n"
     ]
    }
   ],
   "source": [
    "arr6 = np.eye(5)\n",
    "print(arr6)"
   ]
  },
  {
   "cell_type": "code",
   "execution_count": 44,
   "id": "b16f4a7a-04ca-4868-9279-d487ffc041a6",
   "metadata": {},
   "outputs": [
    {
     "name": "stdout",
     "output_type": "stream",
     "text": [
      "[1 3 5 7 9]\n"
     ]
    }
   ],
   "source": [
    "arr7 = np.arange(1,11,2)\n",
    "print(arr7)"
   ]
  },
  {
   "cell_type": "code",
   "execution_count": 46,
   "id": "ae8cca42-d3b2-4742-b199-12805ab031a4",
   "metadata": {},
   "outputs": [
    {
     "data": {
      "text/plain": [
       "(2, 2)"
      ]
     },
     "execution_count": 46,
     "metadata": {},
     "output_type": "execute_result"
    }
   ],
   "source": [
    "arr5.shape"
   ]
  },
  {
   "cell_type": "code",
   "execution_count": 48,
   "id": "0340880a-b944-4235-8ef5-d80835fd2f5c",
   "metadata": {},
   "outputs": [
    {
     "data": {
      "text/plain": [
       "4"
      ]
     },
     "execution_count": 48,
     "metadata": {},
     "output_type": "execute_result"
    }
   ],
   "source": [
    "arr5.size"
   ]
  },
  {
   "cell_type": "code",
   "execution_count": 50,
   "id": "ef238cd0-5c26-472c-b95f-e2f4fa5242e1",
   "metadata": {},
   "outputs": [
    {
     "data": {
      "text/plain": [
       "dtype('int32')"
      ]
     },
     "execution_count": 50,
     "metadata": {},
     "output_type": "execute_result"
    }
   ],
   "source": [
    "arr.dtype"
   ]
  },
  {
   "cell_type": "code",
   "execution_count": 52,
   "id": "f4a7c8f4-529d-4994-8870-2701c3643186",
   "metadata": {},
   "outputs": [
    {
     "data": {
      "text/plain": [
       "1"
      ]
     },
     "execution_count": 52,
     "metadata": {},
     "output_type": "execute_result"
    }
   ],
   "source": [
    "arr.ndim"
   ]
  },
  {
   "cell_type": "code",
   "execution_count": 54,
   "id": "9e796486-d1e8-4809-8532-7089f16670b8",
   "metadata": {},
   "outputs": [
    {
     "data": {
      "text/plain": [
       "2"
      ]
     },
     "execution_count": 54,
     "metadata": {},
     "output_type": "execute_result"
    }
   ],
   "source": [
    "arr1[0][1]"
   ]
  },
  {
   "cell_type": "code",
   "execution_count": 56,
   "id": "772a6c38-803a-420d-b26e-ff1a4b21da2a",
   "metadata": {},
   "outputs": [
    {
     "data": {
      "text/plain": [
       "6"
      ]
     },
     "execution_count": 56,
     "metadata": {},
     "output_type": "execute_result"
    }
   ],
   "source": [
    "arr1[1][2]"
   ]
  },
  {
   "cell_type": "code",
   "execution_count": 58,
   "id": "4f6c812b-0c1c-4713-abfb-cbcc6f517197",
   "metadata": {},
   "outputs": [
    {
     "data": {
      "text/plain": [
       "6"
      ]
     },
     "execution_count": 58,
     "metadata": {},
     "output_type": "execute_result"
    }
   ],
   "source": [
    "arr1[1][-1]"
   ]
  },
  {
   "cell_type": "code",
   "execution_count": 68,
   "id": "dcf5cfe1-bac5-48d1-a914-4e2bc8afc29a",
   "metadata": {},
   "outputs": [
    {
     "name": "stdout",
     "output_type": "stream",
     "text": [
      "[[2 3]\n",
      " [5 6]]\n"
     ]
    }
   ],
   "source": [
    "print(arr1[:,1:])"
   ]
  },
  {
   "cell_type": "code",
   "execution_count": 70,
   "id": "465478ba-6036-4b83-8301-da84f82cc921",
   "metadata": {},
   "outputs": [
    {
     "name": "stdout",
     "output_type": "stream",
     "text": [
      "[[1 2 3]\n",
      " [4 5 6]]\n"
     ]
    }
   ],
   "source": [
    "print(arr1)"
   ]
  },
  {
   "cell_type": "code",
   "execution_count": 83,
   "id": "7fab8ea2-d656-4a8e-be64-1eef5fbe46b1",
   "metadata": {},
   "outputs": [
    {
     "name": "stdout",
     "output_type": "stream",
     "text": [
      "[1 2 3 4 5]\n",
      "[ 6  7  8  9 10]\n"
     ]
    }
   ],
   "source": [
    "a = np.arange(1,6,1)\n",
    "b = np.arange(6,11,1)\n",
    "print(a)\n",
    "print(b)"
   ]
  },
  {
   "cell_type": "code",
   "execution_count": 85,
   "id": "21cfac93-ddf8-4d13-ae78-9a075d82a190",
   "metadata": {},
   "outputs": [
    {
     "name": "stdout",
     "output_type": "stream",
     "text": [
      "[ 7  9 11 13 15]\n"
     ]
    }
   ],
   "source": [
    "print(a + b)"
   ]
  },
  {
   "cell_type": "code",
   "execution_count": 87,
   "id": "65b2cad8-af87-45ef-9520-fa68fe41244e",
   "metadata": {},
   "outputs": [
    {
     "name": "stdout",
     "output_type": "stream",
     "text": [
      "[[1 2 3]\n",
      " [4 5 6]\n",
      " [7 8 9]]\n"
     ]
    }
   ],
   "source": [
    "c = np.array([[1,2,3],[4,5,6],[7,8,9]])\n",
    "print(c)"
   ]
  },
  {
   "cell_type": "code",
   "execution_count": 91,
   "id": "aa8652b6-80ee-4d78-a5ad-d63ce456d66b",
   "metadata": {},
   "outputs": [
    {
     "name": "stdout",
     "output_type": "stream",
     "text": [
      "[[4 2 3]\n",
      " [6 7 8]\n",
      " [5 9 8]]\n"
     ]
    }
   ],
   "source": [
    "d = np.array([[4,2,3],[6,7,8],[5,9,8]])\n",
    "print(d)"
   ]
  },
  {
   "cell_type": "code",
   "execution_count": 93,
   "id": "0f8e061c-ce4d-4454-9f21-393d70cce093",
   "metadata": {},
   "outputs": [
    {
     "name": "stdout",
     "output_type": "stream",
     "text": [
      "[[ 4  4  9]\n",
      " [24 35 48]\n",
      " [35 72 72]]\n"
     ]
    }
   ],
   "source": [
    "print(c * d)"
   ]
  },
  {
   "cell_type": "code",
   "execution_count": 95,
   "id": "670eaeaa-7d0a-415d-b620-e8075a9293cc",
   "metadata": {},
   "outputs": [
    {
     "name": "stdout",
     "output_type": "stream",
     "text": [
      "[[ 31  43  43]\n",
      " [ 76  97 100]\n",
      " [121 151 157]]\n"
     ]
    }
   ],
   "source": [
    "print(c.dot(d))"
   ]
  },
  {
   "cell_type": "code",
   "execution_count": 101,
   "id": "10e24a90-0516-4aed-81a1-c169a6d27b38",
   "metadata": {},
   "outputs": [
    {
     "name": "stdout",
     "output_type": "stream",
     "text": [
      "[[ 31  43  43]\n",
      " [ 76  97 100]\n",
      " [121 151 157]]\n"
     ]
    }
   ],
   "source": [
    "result = np.dot(c,d)\n",
    "print(result)"
   ]
  },
  {
   "cell_type": "code",
   "execution_count": 103,
   "id": "cdccc0ea-18fb-4699-9dc0-f60a8efc1f68",
   "metadata": {},
   "outputs": [
    {
     "data": {
      "image/png": "[encoded data removed]",
      "text/plain": [
       "<Figure size 640x480 with 1 Axes>"
      ]
     },
     "metadata": {},
     "output_type": "display_data"
    }
   ],
   "source": [
    "import matplotlib.pyplot as plt\n",
    "plt.plot(result)\n",
    "plt.show()"
   ]
  },
  {
   "cell_type": "code",
   "execution_count": 105,
   "id": "785479d2-78d7-4459-818b-165ad097fc9f",
   "metadata": {},
   "outputs": [
    {
     "name": "stdout",
     "output_type": "stream",
     "text": [
      "[1.         1.41421356 1.73205081]\n"
     ]
    }
   ],
   "source": [
    "arr9 = np.array([1,2,3])\n",
    "print(np.sqrt(arr9))"
   ]
  },
  {
   "cell_type": "code",
   "execution_count": 107,
   "id": "f6825b5e-2c99-4839-ad13-cbdb6b095a78",
   "metadata": {},
   "outputs": [
    {
     "name": "stdout",
     "output_type": "stream",
     "text": [
      "[ 2.71828183  7.3890561  20.08553692]\n"
     ]
    }
   ],
   "source": [
    "print(np.exp(arr9))"
   ]
  },
  {
   "cell_type": "code",
   "execution_count": 109,
   "id": "1f9420cd-9fca-4820-b3fc-9f02182197aa",
   "metadata": {},
   "outputs": [
    {
     "name": "stdout",
     "output_type": "stream",
     "text": [
      "[0.         0.69314718 1.09861229]\n"
     ]
    }
   ],
   "source": [
    "print(np.log(arr9))"
   ]
  },
  {
   "cell_type": "code",
   "execution_count": 111,
   "id": "3ef75476-4fa3-455e-8922-022749cb39b5",
   "metadata": {},
   "outputs": [
    {
     "name": "stdout",
     "output_type": "stream",
     "text": [
      "6\n"
     ]
    }
   ],
   "source": [
    "print(np.sum(arr9))"
   ]
  },
  {
   "cell_type": "code",
   "execution_count": 113,
   "id": "8ddfd872-395d-4635-944e-b04fd2778bd3",
   "metadata": {},
   "outputs": [
    {
     "name": "stdout",
     "output_type": "stream",
     "text": [
      "3\n"
     ]
    }
   ],
   "source": [
    "print(np.max(arr9))"
   ]
  },
  {
   "cell_type": "code",
   "execution_count": 115,
   "id": "60e5f7c4-61fc-4383-8128-d7faca5fe0aa",
   "metadata": {},
   "outputs": [
    {
     "name": "stdout",
     "output_type": "stream",
     "text": [
      "1\n"
     ]
    }
   ],
   "source": [
    "print(np.min(arr9))"
   ]
  },
  {
   "cell_type": "code",
   "execution_count": 117,
   "id": "ece9d83f-db7b-40c9-9052-1cf970d845a6",
   "metadata": {},
   "outputs": [
    {
     "name": "stdout",
     "output_type": "stream",
     "text": [
      "0.816496580927726\n"
     ]
    }
   ],
   "source": [
    "print(np.std(arr9))"
   ]
  },
  {
   "cell_type": "code",
   "execution_count": 119,
   "id": "0c8bc0a1-5d63-41e8-b83a-cb5a8b4eebde",
   "metadata": {},
   "outputs": [
    {
     "name": "stdout",
     "output_type": "stream",
     "text": [
      "2.0\n"
     ]
    }
   ],
   "source": [
    "print(np.mean(arr9))"
   ]
  },
  {
   "cell_type": "code",
   "execution_count": 121,
   "id": "068ac62c-b75f-42dd-bc07-3b014f42a63c",
   "metadata": {},
   "outputs": [
    {
     "name": "stdout",
     "output_type": "stream",
     "text": [
      "2.0\n"
     ]
    }
   ],
   "source": [
    "print(np.median(arr9))"
   ]
  },
  {
   "cell_type": "code",
   "execution_count": 126,
   "id": "37aef904-ed9b-476f-9154-6d86507d8376",
   "metadata": {},
   "outputs": [
    {
     "name": "stdout",
     "output_type": "stream",
     "text": [
      "[[1 2 3]\n",
      " [4 5 6]]\n"
     ]
    }
   ],
   "source": [
    "arr10 = np.array([1,2,3,4,5,6])\n",
    "arr11 = arr10.reshape(2,3)\n",
    "print(arr11)"
   ]
  },
  {
   "cell_type": "code",
   "execution_count": 132,
   "id": "8d354697-bd23-43b0-a7e3-0756801303d5",
   "metadata": {},
   "outputs": [
    {
     "data": {
      "text/plain": [
       "2"
      ]
     },
     "execution_count": 132,
     "metadata": {},
     "output_type": "execute_result"
    }
   ],
   "source": [
    "arr11.ndim"
   ]
  },
  {
   "cell_type": "code",
   "execution_count": 138,
   "id": "edf80a73-911c-40f1-af1b-ef9648374d9b",
   "metadata": {},
   "outputs": [
    {
     "name": "stdout",
     "output_type": "stream",
     "text": [
      "[[1 2]\n",
      " [3 4]]\n",
      "[1 2 3 4]\n"
     ]
    }
   ],
   "source": [
    "arr12 = np.array([1,2])\n",
    "arr13 = np.array([3,4])\n",
    "#Vertical Stacking\n",
    "print(np.vstack((arr12,arr13)))\n",
    "#Horizontal Stacking\n",
    "print(np.hstack((arr12,arr13)))"
   ]
  },
  {
   "cell_type": "code",
   "execution_count": 152,
   "id": "d067d091-0750-42d1-aae9-b18512474fe0",
   "metadata": {},
   "outputs": [
    {
     "name": "stdout",
     "output_type": "stream",
     "text": [
      "[array([1, 2]), array([3, 4]), array([5, 6])]\n"
     ]
    }
   ],
   "source": [
    "arr14 = np.array([1,2,3,4,5,6])\n",
    "print(np.array_split(arr14,3))"
   ]
  },
  {
   "cell_type": "code",
   "execution_count": 158,
   "id": "6dcc3e90-88a2-4095-9db4-2cf9c71b8d7a",
   "metadata": {},
   "outputs": [
    {
     "name": "stdout",
     "output_type": "stream",
     "text": [
      "1\n",
      "2\n"
     ]
    }
   ],
   "source": [
    "#Copy and View\n",
    "#View shares the memory\n",
    "#Copy does not share the memory. It creates seperate memory\n",
    "arr15 = np.array([1,2,3,4,5])\n",
    "view = arr.view()\n",
    "print(view[0])\n",
    "copy = arr.copy()\n",
    "print(copy[1])"
   ]
  },
  {
   "cell_type": "code",
   "execution_count": 160,
   "id": "07ee2c8c-2d46-4c56-9bff-dafb9f784681",
   "metadata": {},
   "outputs": [],
   "source": [
    "arr16 = np.array([1,2,3,4,5,6,7,8,9,10])\n",
    "np.save('numpyPractice.npy',arr16)"
   ]
  },
  {
   "cell_type": "code",
   "execution_count": 162,
   "id": "7731ca05-d3b5-4a77-be4f-1870f0e11c57",
   "metadata": {},
   "outputs": [],
   "source": [
    "loaded_arr = np.load('numpyPractice.npy')"
   ]
  },
  {
   "cell_type": "code",
   "execution_count": 164,
   "id": "446a16d2-5465-43c5-8d0e-85bf9c4c8c2b",
   "metadata": {},
   "outputs": [
    {
     "name": "stdout",
     "output_type": "stream",
     "text": [
      "[ 1  2  3  4  5  6  7  8  9 10]\n"
     ]
    }
   ],
   "source": [
    "print(loaded_arr)"
   ]
  },
  {
   "cell_type": "code",
   "execution_count": null,
   "id": "703c98d7-d010-486f-9a1a-4d9a9b03014d",
   "metadata": {},
   "outputs": [],
   "source": []
  }
 ],
 "metadata": {
  "kernelspec": {
   "display_name": "Python [conda env:base] *",
   "language": "python",
   "name": "conda-base-py"
  },
  "language_info": {
   "codemirror_mode": {
    "name": "ipython",
    "version": 3
   },
   "file_extension": ".py",
   "mimetype": "text/x-python",
   "name": "python",
   "nbconvert_exporter": "python",
   "pygments_lexer": "ipython3",
   "version": "3.12.7"
  }
 },
 "nbformat": 4,
 "nbformat_minor": 5
}
